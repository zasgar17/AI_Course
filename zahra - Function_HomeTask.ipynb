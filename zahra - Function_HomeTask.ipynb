{
  "cells": [
    {
      "cell_type": "markdown",
      "metadata": {
        "id": "Bk0TIJb3ERrI"
      },
      "source": [
        "1) Write a function is_even(n) that returns True if the number is even, otherwise False.\n",
        "\n",
        "2) Write a function is_prime(n) that checks if a number is prime. (*A prime number is a natural number greater than 1 that has no positive divisors other than 1 and itself. In other words, a prime number is only divisible by 1 and itself without leaving a remainder. Examples of prime numbers include 2, 3, 5, 7, 11, 13, 17, and so on.*)\n",
        "\n",
        "3) Write a  Python function to multiply all the numbers in a list.\n",
        "\n",
        "\n",
        "```\n",
        "Sample List : (8, 2, 3, -1, 7)\n",
        "Expected Output : -336\n",
        "```\n",
        "\n",
        "4) Write a Python function that accepts a string and counts the number of upper and lower case letters.\n",
        "\n",
        "```\n",
        "Sample String : 'The quick Brow Fox'\n",
        "Expected Output :\n",
        "No. of Upper case characters : 3\n",
        "No. of Lower case Characters : 12\n",
        "```\n",
        "\n",
        "5) Write a  Python function to create and print a list where the values are the squares of numbers between 1 and 30 (both included).\n",
        "\n",
        "6) Write a function to check if a given number is an Armstrong number or not.\n",
        "\n",
        "7) Write a function that calculates the sum of digits of a given number.\n",
        "\n",
        "8) Write a function that finds the number of divisors of a given number.\n",
        "\n",
        "9) Write a function called fuel_cost that takes a distance as a required argument, km (default 50 km) and fuel cost (default $1 a litre) as optional arguments. The function should return the cost in dollars.\n",
        "\n",
        "10) Write a function called hcf (ƏBOB) that takes 2 integer values and returns the highest common factor of the numbers.\n",
        "\n"
      ]
    },
    {
      "cell_type": "code",
      "execution_count": null,
      "metadata": {},
      "outputs": [],
      "source": [
        "#1\n",
        "def is_even(n):\n",
        "    '''checking if n is even or not'''\n",
        "    if n % 2 == 0:\n",
        "        return True\n",
        "    else:\n",
        "        return False\n",
        "\n",
        "n = int(input(\"Enter an integer: \"))\n",
        "print(is_even(n))\n",
        "\n",
        "# ya da bele yazila biler:\n",
        "# def is_even(n):\n",
        "#     '''checking if n is even or not'''\n",
        "#     return n % 2 == 0\n",
        "\n",
        "# n = int(input(\"Enter an integer: \"))\n",
        "# print(is_even(n))"
      ]
    },
    {
      "cell_type": "code",
      "execution_count": null,
      "metadata": {},
      "outputs": [],
      "source": [
        "#2\n",
        "def is_prime(n):\n",
        "    '''if a num is prime or not'''\n",
        "    if n <= 1:\n",
        "        return False\n",
        "    for i in range(2, n):\n",
        "        if n % i == 0:\n",
        "            return False\n",
        "    return True\n",
        "\n",
        "n = int(input(\"Enter an integer: \"))\n",
        "print(is_prime(n))"
      ]
    },
    {
      "cell_type": "code",
      "execution_count": 1,
      "metadata": {},
      "outputs": [
        {
          "name": "stdout",
          "output_type": "stream",
          "text": [
            "-336\n"
          ]
        }
      ],
      "source": [
        "#3\n",
        "def multiply_list(nums):\n",
        "    '''function for multiply all nums in a given list'''\n",
        "    result = 1\n",
        "    for num in nums:\n",
        "        result *= num\n",
        "    return result\n",
        "\n",
        "sample_list = [8, 2, 3, -1, 7]\n",
        "print(multiply_list(sample_list)) "
      ]
    },
    {
      "cell_type": "code",
      "execution_count": null,
      "metadata": {},
      "outputs": [],
      "source": [
        "#4\n",
        "def count_case_letters(s):\n",
        "    '''func for count upper and lower cases'''\n",
        "    upper_count = 0\n",
        "    lower_count = 0\n",
        "    \n",
        "    for char in s:\n",
        "        if char.isupper():\n",
        "            upper_count += 1\n",
        "        elif char.islower():\n",
        "            lower_count += 1\n",
        "    \n",
        "    return upper_count, lower_count\n",
        "\n",
        "string = input(\"Enter a string: \")\n",
        "upper, lower = count_case_letters(string)\n",
        "print(f\"Num of Upper case characters: {upper}\")\n",
        "print(f\"Num of Lower case characters: {lower}\")"
      ]
    },
    {
      "cell_type": "code",
      "execution_count": null,
      "metadata": {},
      "outputs": [],
      "source": [
        "#5\n",
        "def squares_list():\n",
        "    '''func for get squares of nums in rage 1-31'''\n",
        "    squares = [x**2 for x in range(1, 31)]\n",
        "    return squares\n",
        "\n",
        "print(squares_list())"
      ]
    },
    {
      "cell_type": "code",
      "execution_count": null,
      "metadata": {},
      "outputs": [],
      "source": [
        "#6\n",
        "def is_armstrong_num(num):\n",
        "    '''if a num is armstrong num or not'''\n",
        "    str_num = str(num)\n",
        "    num_digits = len(str_num)\n",
        "    \n",
        "    sum_of_pow = 0\n",
        "    \n",
        "    for digit in str_num:\n",
        "        sum_of_pow += int(digit) ** num_digits\n",
        "    \n",
        "    return sum_of_pow == number\n",
        "\n",
        "number = int(input(\"Enter a number: \"))\n",
        "\n",
        "if is_armstrong_num(number):\n",
        "    print(f\"{number} is an Armstrong number.\")\n",
        "else:\n",
        "    print(f\"{number} is not an Armstrong number.\") \n",
        "    \n",
        "# bu kodu evvel sinifde bu suali islediyim zaman yazmisdim"
      ]
    },
    {
      "cell_type": "code",
      "execution_count": null,
      "metadata": {},
      "outputs": [],
      "source": [
        "#7\n",
        "def sum_of_digits(number):\n",
        "    digits = str(number)\n",
        "    sum_digits = sum(int(digit) for digit in digits)\n",
        "    return sum_digits\n",
        "\n",
        "number = int(input(\"Enter a number: \"))\n",
        "print(f\"The sum of the digits of {number} is {sum_of_digits(number)}.\")"
      ]
    },
    {
      "cell_type": "code",
      "execution_count": null,
      "metadata": {},
      "outputs": [],
      "source": [
        "#8\n",
        "def number_of_divisors(num):\n",
        "    count = 0\n",
        "    for i in range(1, num + 1):\n",
        "        if num % i == 0:\n",
        "            count += 1\n",
        "    return count\n",
        "\n",
        "number = int(input(\"Enter a number: \"))\n",
        "print(f\"The number of divisors of {number} is {number_of_divisors(number)}.\")"
      ]
    },
    {
      "cell_type": "code",
      "execution_count": null,
      "metadata": {},
      "outputs": [],
      "source": [
        "#9\n",
        "def fuel_cost(distance=50, fuel_cost_per_litre=1):\n",
        "    fuel_required = distance / 10\n",
        "    \n",
        "    total_cost = fuel_required * fuel_cost_per_litre\n",
        "    \n",
        "    return total_cost\n",
        "\n",
        "distance = float(input(\"Enter the distance in km: \"))\n",
        "fuel_cost_per_litre = float(input(\"Enter the fuel cost per litre in $: \"))\n",
        "\n",
        "cost = fuel_cost(distance, fuel_cost_per_litre)\n",
        "print(f\"The cost of fuel for {distance} km is ${cost:.2f}.\")"
      ]
    },
    {
      "cell_type": "code",
      "execution_count": null,
      "metadata": {},
      "outputs": [],
      "source": [
        "#10\n",
        "def HCF(a, b):\n",
        "    min_value = min(a, b)\n",
        "    \n",
        "    HCF_value = 1\n",
        "    \n",
        "    for i in range(1, min_value + 1):\n",
        "        if a % i == 0 and b % i == 0:\n",
        "            HCF_value = i\n",
        "    \n",
        "    return HCF_value\n",
        "\n",
        "num1 = int(input(\"Enter first number: \"))\n",
        "num2 = int(input(\"Enter second number: \"))\n",
        "\n",
        "print(f\"The Highest Common Factor (HCF) of {num1} and {num2} is {HCF(num1, num2)}.\")"
      ]
    }
  ],
  "metadata": {
    "colab": {
      "provenance": []
    },
    "kernelspec": {
      "display_name": "Python 3",
      "name": "python3"
    },
    "language_info": {
      "codemirror_mode": {
        "name": "ipython",
        "version": 3
      },
      "file_extension": ".py",
      "mimetype": "text/x-python",
      "name": "python",
      "nbconvert_exporter": "python",
      "pygments_lexer": "ipython3",
      "version": "3.11.5"
    }
  },
  "nbformat": 4,
  "nbformat_minor": 0
}
