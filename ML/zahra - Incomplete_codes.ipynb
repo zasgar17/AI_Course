{
  "cells": [
    {
      "cell_type": "markdown",
      "metadata": {
        "id": "J6UMjuzezEY_"
      },
      "source": [
        "# **Please try to complete the parts marked with *.**"
      ]
    },
    {
      "cell_type": "markdown",
      "metadata": {
        "id": "7VELF8ho6PiE"
      },
      "source": [
        "# SVM"
      ]
    },
    {
      "cell_type": "markdown",
      "metadata": {
        "id": "-S98JRCLzzON"
      },
      "source": [
        "Import necessary libraries"
      ]
    },
    {
      "cell_type": "code",
      "execution_count": null,
      "metadata": {
        "id": "ckqlYMOKzorc"
      },
      "outputs": [],
      "source": [
        "from sklearn import datasets\n",
        "from sklearn.model_selection import train_test_split\n",
        "from sklearn.preprocessing import StandardScaler\n",
        "from sklearn.svm import SVC\n",
        "from sklearn.metrics import accuracy_score, classification_report, confusion_matrix"
      ]
    },
    {
      "cell_type": "markdown",
      "metadata": {
        "id": "oDN99pXUz6SQ"
      },
      "source": [
        "Load the Wine dataset"
      ]
    },
    {
      "cell_type": "code",
      "execution_count": null,
      "metadata": {
        "id": "vIsBGXsbz-U0"
      },
      "outputs": [],
      "source": [
        "wine = datasets.load_wine()"
      ]
    },
    {
      "cell_type": "markdown",
      "metadata": {
        "id": "4pWycsgB0Ady"
      },
      "source": [
        "Splitting the dataset into features (X) and target (y)"
      ]
    },
    {
      "cell_type": "code",
      "execution_count": null,
      "metadata": {
        "id": "nyIeo6WY0DR2"
      },
      "outputs": [],
      "source": [
        "X = wine.data[:, :2]\n",
        "y = wine.target"
      ]
    },
    {
      "cell_type": "markdown",
      "metadata": {
        "id": "Wzb613-D0HU4"
      },
      "source": [
        "Splitting the dataset into training and testing sets"
      ]
    },
    {
      "cell_type": "code",
      "execution_count": null,
      "metadata": {
        "id": "u147G3Io0IMY"
      },
      "outputs": [],
      "source": [
        "X_train, X_test, y_train, y_test = train_test_split(\n",
        "    X, y, test_size=0.3, random_state=42)"
      ]
    },
    {
      "cell_type": "markdown",
      "metadata": {
        "id": "nwQ19sFu0MjQ"
      },
      "source": [
        "Feature scaling"
      ]
    },
    {
      "cell_type": "code",
      "execution_count": null,
      "metadata": {
        "id": "uNijR7xg0O9w"
      },
      "outputs": [],
      "source": [
        "scaler = StandardScaler()\n",
        "X_train = scaler.fit_transform(X_train)  # (*)\n",
        "X_test = scaler.transform(X_test)  # (*)"
      ]
    },
    {
      "cell_type": "markdown",
      "metadata": {
        "id": "4Fi0wjDk0Q4X"
      },
      "source": [
        "Initialize the SVM model with a radial basis function (RBF) kernel"
      ]
    },
    {
      "cell_type": "code",
      "execution_count": null,
      "metadata": {
        "id": "tM1eevHC0TAE"
      },
      "outputs": [],
      "source": [
        "model = SVC(kernel='rbf', C=1.0, gamma='scale')"
      ]
    },
    {
      "cell_type": "markdown",
      "metadata": {
        "id": "E_KbcL8q0Un9"
      },
      "source": [
        "Train the model"
      ]
    },
    {
      "cell_type": "code",
      "execution_count": null,
      "metadata": {
        "id": "DVGK_1O30WfL"
      },
      "outputs": [],
      "source": [
        "model.fit(X_train, y_train)"
      ]
    },
    {
      "cell_type": "markdown",
      "metadata": {
        "id": "My5iFzz40YRS"
      },
      "source": [
        "Make predictions on the test set"
      ]
    },
    {
      "cell_type": "code",
      "execution_count": null,
      "metadata": {
        "id": "3FZm1Ynh0aIN"
      },
      "outputs": [],
      "source": [
        "y_pred = model.predict(X_test)"
      ]
    },
    {
      "cell_type": "markdown",
      "metadata": {
        "id": "Vj-V0Tkb0eK4"
      },
      "source": [
        "Evaluate the model's performance"
      ]
    },
    {
      "cell_type": "code",
      "execution_count": null,
      "metadata": {
        "id": "cOkrKpEZ0rpW"
      },
      "outputs": [],
      "source": [
        "accuracy = accuracy_score(y_test, y_pred)\n",
        "print(\"Model accuracy:\", accuracy)"
      ]
    },
    {
      "cell_type": "markdown",
      "metadata": {
        "id": "yVvwvaO30tPO"
      },
      "source": [
        "Print a detailed classification report"
      ]
    },
    {
      "cell_type": "code",
      "execution_count": null,
      "metadata": {
        "id": "AuZfUjIm0vfc"
      },
      "outputs": [],
      "source": [
        "print(\"Classification report:\")\n",
        "print(classification_report(y_test, y_pred))"
      ]
    },
    {
      "cell_type": "markdown",
      "metadata": {
        "id": "Q1jS_7yL00rv"
      },
      "source": [
        "Print the confusion matrix"
      ]
    },
    {
      "cell_type": "code",
      "execution_count": null,
      "metadata": {
        "id": "0gqQbc0P02dA"
      },
      "outputs": [],
      "source": [
        "print(\"Confusion Matrix:\")\n",
        "print(confusion_matrix(y_test, y_pred))"
      ]
    },
    {
      "cell_type": "markdown",
      "metadata": {
        "id": "tcC_9pZR4vE-"
      },
      "source": [
        "# GridSearchCV"
      ]
    },
    {
      "cell_type": "code",
      "execution_count": null,
      "metadata": {
        "id": "qFhvQItt4_-r"
      },
      "outputs": [],
      "source": [
        "from sklearn.datasets import load_breast_cancer\n",
        "from sklearn.model_selection import train_test_split, GridSearchCV\n",
        "from sklearn.svm import SVC\n",
        "from sklearn.metrics import accuracy_score"
      ]
    },
    {
      "cell_type": "markdown",
      "metadata": {
        "id": "izcB2Xc645B8"
      },
      "source": [
        "Load the Breast Cancer dataset"
      ]
    },
    {
      "cell_type": "code",
      "execution_count": null,
      "metadata": {
        "id": "a799wVmq5DvG"
      },
      "outputs": [],
      "source": [
        "data = load_breast_cancer()\n",
        "X = data.data\n",
        "y = data.target"
      ]
    },
    {
      "cell_type": "code",
      "execution_count": null,
      "metadata": {
        "id": "CewS1Wob5LJD"
      },
      "outputs": [],
      "source": [
        "X_train, X_test, y_train, y_test = train_test_split(\n",
        "    X, y, test_size=0.3, random_state=42)"
      ]
    },
    {
      "cell_type": "markdown",
      "metadata": {
        "id": "JxWTOO1E5G5c"
      },
      "source": [
        "Define the parameter grid for tuning"
      ]
    },
    {
      "cell_type": "code",
      "execution_count": null,
      "metadata": {
        "id": "Vh-63h085Qv4"
      },
      "outputs": [],
      "source": [
        "param_grid = {\n",
        "    'C': [0.1, 1, 10, 100],\n",
        "    'gamma': ['scale', 'auto'],\n",
        "    'kernel': ['linear', 'rbf']\n",
        "}"
      ]
    },
    {
      "cell_type": "code",
      "execution_count": null,
      "metadata": {
        "id": "0vm6JLu45YsI"
      },
      "outputs": [],
      "source": [
        "model = SVC()\n",
        "grid_search = GridSearchCV(estimator=model, param_grid=param_grid, cv=5, n_jobs=-1, verbose=2)"
      ]
    },
    {
      "cell_type": "markdown",
      "metadata": {
        "id": "obwHNjAI5eka"
      },
      "source": [
        "Train the model with grid search"
      ]
    },
    {
      "cell_type": "code",
      "execution_count": null,
      "metadata": {
        "id": "rxYFXhb65fRS"
      },
      "outputs": [],
      "source": [
        "grid_search.fit(X_train, y_train)"
      ]
    },
    {
      "cell_type": "markdown",
      "metadata": {
        "id": "nt6AFh-F5htQ"
      },
      "source": [
        "Get the best parameters found by GridSearchCV"
      ]
    },
    {
      "cell_type": "code",
      "execution_count": null,
      "metadata": {
        "id": "33ir74wy5lkj"
      },
      "outputs": [],
      "source": [
        "best_params = grid_search.best_params_  # (*)\n",
        "print(\"Best Parameters:\", best_params)"
      ]
    },
    {
      "cell_type": "markdown",
      "metadata": {
        "id": "RttCTsrS5njx"
      },
      "source": [
        "Make predictions using the best estimator"
      ]
    },
    {
      "cell_type": "code",
      "execution_count": null,
      "metadata": {
        "id": "EY28q2gD5pil"
      },
      "outputs": [],
      "source": [
        "y_pred = grid_search.best_estimator_.predict(X_test)  # (*)\n",
        "\n",
        "accuracy = accuracy_score(y_test, y_pred)\n",
        "print(\"Model accuracy:\", accuracy)"
      ]
    },
    {
      "cell_type": "markdown",
      "metadata": {
        "id": "Bq375QS765kY"
      },
      "source": [
        "# Linear Regression"
      ]
    },
    {
      "cell_type": "markdown",
      "metadata": {
        "id": "gUEbPTvz6-Hy"
      },
      "source": [
        "Initialize the L1 regression model with a regularization strength of alpha=0.1"
      ]
    },
    {
      "cell_type": "code",
      "execution_count": null,
      "metadata": {
        "id": "VEecqCBT7ISm"
      },
      "outputs": [],
      "source": [
        "model = Lasso(alpha=0.1)"
      ]
    },
    {
      "cell_type": "markdown",
      "metadata": {
        "id": "rybZronY7THL"
      },
      "source": [
        "Initialize the L2 regression model with a regularization strength of alpha=1.0"
      ]
    },
    {
      "cell_type": "code",
      "execution_count": null,
      "metadata": {
        "id": "tkQzKXzQ7WLy"
      },
      "outputs": [],
      "source": [
        "model =Ridge(alpha=1)"
      ]
    },
    {
      "cell_type": "markdown",
      "metadata": {
        "id": "QWaaZS5u8rnE"
      },
      "source": [
        "Split the data into test and train sets(60:40 ration)"
      ]
    },
    {
      "cell_type": "code",
      "execution_count": null,
      "metadata": {
        "id": "zhaLnrJ_83T7"
      },
      "outputs": [],
      "source": [
        "from sklearn.model_selection import train_test_split\n",
        "X_train, X_test, y_train, y_test = train_test_split(X, y, test_size =0.4, random_state = 0)"
      ]
    },
    {
      "cell_type": "markdown",
      "metadata": {
        "id": "dPyKMVP79ayn"
      },
      "source": [
        "Initialize SMOTE\n",
        "Fit SMOTE and resample the data"
      ]
    },
    {
      "cell_type": "code",
      "execution_count": null,
      "metadata": {
        "id": "saWI87LL9gYd"
      },
      "outputs": [],
      "source": [
        "smote = SMOTE(sampling_strategy='auto', random_state=42)\n",
        "\n",
        "X_resampled, y_resampled = smote.fit_resample(X, y)"
      ]
    }
  ],
  "metadata": {
    "colab": {
      "provenance": []
    },
    "kernelspec": {
      "display_name": "Python 3",
      "name": "python3"
    },
    "language_info": {
      "name": "python"
    }
  },
  "nbformat": 4,
  "nbformat_minor": 0
}
