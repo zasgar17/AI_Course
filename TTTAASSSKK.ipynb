{
  "cells": [
    {
      "cell_type": "markdown",
      "metadata": {
        "id": "t0LHIhxSJLoq"
      },
      "source": [
        "1) Get the keys from the dictionaries named *sample_dic* as a list\n",
        "```\n",
        "sample_dict = {\n",
        "    'Physics': 82,\n",
        "    'Math': 65,\n",
        "    'history': 75\n",
        "}\n",
        "```\n",
        "\n"
      ]
    },
    {
      "cell_type": "code",
      "execution_count": null,
      "metadata": {},
      "outputs": [],
      "source": [
        "#1\n",
        "sample_dict = {\n",
        "    'Physics': 82,\n",
        "    'Math': 65,\n",
        "    'history': 75\n",
        "}\n",
        "\n",
        "print(sample_dict.keys())"
      ]
    },
    {
      "cell_type": "markdown",
      "metadata": {
        "id": "w5sNggvfKBPs"
      },
      "source": [
        "2) Get sum of all the values in a dict\n",
        "\n",
        "```\n",
        "#Input:\n",
        "sample_dict = {\n",
        "    'Physics': 82,\n",
        "    'Math': 65,\n",
        "    'history': 75,\n",
        "    'chemistry': 89,\n",
        "    'GK': 50\n",
        "    \n",
        "}\n",
        "\n",
        "#Expected Output: 361\n",
        "\n",
        "```"
      ]
    },
    {
      "cell_type": "code",
      "execution_count": null,
      "metadata": {},
      "outputs": [],
      "source": [
        "#2\n",
        "sample_dict = {\n",
        "    'Physics': 82,\n",
        "    'Math': 65,\n",
        "    'history': 75,\n",
        "    'chemistry': 89,\n",
        "    'GK': 50  \n",
        "}\n",
        "\n",
        "values = sample_dict.values()\n",
        "print(list(values))\n",
        "\n",
        "total = sum(values)\n",
        "print(total)"
      ]
    },
    {
      "cell_type": "markdown",
      "metadata": {
        "id": "hXoPfj4-JXko"
      },
      "source": [
        "3)Get the key of a minimum value from the following dictionary\n",
        "\n",
        "```\n",
        "#Input:\n",
        "sample_dict = {\n",
        "  'Physics': 82,\n",
        "  'Math': 65,\n",
        "  'history': 75\n",
        "}\n",
        "\n",
        "#Expected Output: Math\n",
        "\n",
        "```"
      ]
    },
    {
      "cell_type": "code",
      "execution_count": null,
      "metadata": {},
      "outputs": [],
      "source": [
        "#3\n",
        "sample_dict = {\n",
        "    'Physics': 82,\n",
        "    'Math': 65,\n",
        "    'history': 75\n",
        "}\n",
        "\n",
        "min_key = None\n",
        "min_value = float('inf') \n",
        "\n",
        "for key, value in sample_dict.items():\n",
        "    if value < min_value:\n",
        "        min_value = value\n",
        "        min_key = key\n",
        "\n",
        "print(min_key)"
      ]
    },
    {
      "cell_type": "markdown",
      "metadata": {
        "id": "CTSGF0hmJgDD"
      },
      "source": [
        "4) Delete a list of keys from a dictionary\n",
        "```\n",
        "#Inputs:\n",
        "sample_dict = {\n",
        "    \"name\": \"Khalid\",\n",
        "    \"age\": 23,\n",
        "    \"salary\": 1000,\n",
        "    \"city\": \"Baku\"\n",
        "}\n",
        "\n",
        "# Keys to remove\n",
        "keys = [\"name\", \"salary\"]\n",
        "\n",
        "# Expected Output: {'city': 'Baku', 'age': 23}\n",
        "```"
      ]
    },
    {
      "cell_type": "code",
      "execution_count": null,
      "metadata": {},
      "outputs": [],
      "source": [
        "#4\n",
        "sample_dict = {\n",
        "    \"name\": \"Khalid\",\n",
        "    \"age\": 23,\n",
        "    \"salary\": 1000,\n",
        "    \"city\": \"Baku\"\n",
        "}\n",
        "\n",
        "del sample_dict[\"name\"]\n",
        "del sample_dict[\"salary\"]\n",
        "\n",
        "print(sample_dict)"
      ]
    },
    {
      "cell_type": "markdown",
      "metadata": {
        "id": "keTauTOfJ0RA"
      },
      "source": [
        "5) Create a dictionary by extracting the keys from a given dictionary\n",
        "\n",
        "```\n",
        "# Inputs:\n",
        "sample_dict = {\n",
        "    \"name\": \"Khalid\",\n",
        "    \"age\": 23,\n",
        "    \"salary\": 1000,\n",
        "    \"city\": \"Baku\"}\n",
        "\n",
        "# Keys to extract\n",
        "keys = [\"name\", \"salary\"]\n",
        "\n",
        "# Expected Output: {'name': 'Khalid', 'salary': 1000}\n",
        "```"
      ]
    },
    {
      "cell_type": "code",
      "execution_count": null,
      "metadata": {},
      "outputs": [],
      "source": [
        "#5\n",
        "sample_dict = {\n",
        "    \"name\": \"Khalid\",\n",
        "    \"age\": 23,\n",
        "    \"salary\": 1000,\n",
        "    \"city\": \"Baku\"\n",
        "}\n",
        "\n",
        "keys_to_extract = [\"name\", \"salary\"]\n",
        "\n",
        "new_dict = {key: sample_dict[key] for key in keys_to_extract if key in sample_dict}\n",
        "\n",
        "print(new_dict)"
      ]
    },
    {
      "cell_type": "markdown",
      "metadata": {
        "id": "KW4qi0i5KNQd"
      },
      "source": [
        "6) Take 10 integers from keyboard using loop and print their average value\n",
        "on the screen."
      ]
    },
    {
      "cell_type": "code",
      "execution_count": null,
      "metadata": {},
      "outputs": [],
      "source": [
        "#6\n",
        "cnt=0\n",
        "sum=0\n",
        "while cnt<10:\n",
        "    num=int(input(\"Enter 10 integer: \"))\n",
        "    sum+=num\n",
        "    cnt+=1\n",
        "print(sum/cnt)"
      ]
    },
    {
      "cell_type": "markdown",
      "metadata": {
        "id": "yTkI4J3aKOrs"
      },
      "source": [
        "7) Print multiplication table of 24 using loop."
      ]
    },
    {
      "cell_type": "code",
      "execution_count": 15,
      "metadata": {},
      "outputs": [
        {
          "name": "stdout",
          "output_type": "stream",
          "text": [
            "24*0=0\n",
            "24*1=24\n",
            "24*2=48\n",
            "24*3=72\n",
            "24*4=96\n",
            "24*5=120\n",
            "24*6=144\n",
            "24*7=168\n",
            "24*8=192\n",
            "24*9=216\n",
            "24*10=240\n",
            "\n"
          ]
        }
      ],
      "source": [
        "#7\n",
        "number = 24\n",
        "bolen = 1\n",
        "result = \"\"\n",
        "count = 0\n",
        "while count < 11:\n",
        "    result += f\"{number}*{count}={number*count}\\n\"\n",
        "    count+=1\n",
        "\n",
        "print(result)"
      ]
    },
    {
      "cell_type": "markdown",
      "metadata": {
        "id": "PpkgIjOEKUU0"
      },
      "source": [
        "8) Factorial of any number n is represented by n! and is equal to 1*2*3*....*(n-1)*n.\n",
        "\n",
        "Write a program to calculate factorial of a number.\n",
        "\n",
        "```\n",
        "4! = 1*2*3*4 = 24\n",
        "3! = 3*2*1 = 6\n",
        "2! = 2*1 = 2\n",
        "\n",
        "Also,\n",
        "1! = 1\n",
        "0! = 1\n",
        "```\n"
      ]
    },
    {
      "cell_type": "code",
      "execution_count": null,
      "metadata": {},
      "outputs": [],
      "source": [
        "#8\n",
        "n = int(input(\"Please enter an integer: \"))  \n",
        "\n",
        "if n < 0:\n",
        "    print(\"Factorial is not defined for negative numbers\")\n",
        "else:\n",
        "    result = 1\n",
        "    for i in range(1, n + 1):\n",
        "        result *= i\n",
        "    print(result)"
      ]
    },
    {
      "cell_type": "markdown",
      "metadata": {
        "id": "1V-KIxBHKjiU"
      },
      "source": [
        "9) Write a program that calculates the sum of the digits of a given number. Ask the user to input a number"
      ]
    },
    {
      "cell_type": "code",
      "execution_count": null,
      "metadata": {},
      "outputs": [],
      "source": [
        "#9\n",
        "n=(input(\"Please enter an integer: \"))\n",
        "sum_of_digits=0\n",
        "\n",
        "for digit in n:\n",
        "    sum_of_digits+=int(digit)\n",
        "    \n",
        "print(f\"Sum of the digits of the {n} is {sum_of_digits}\")"
      ]
    },
    {
      "cell_type": "markdown",
      "metadata": {
        "id": "cLIPyMzuLLUU"
      },
      "source": [
        "10) Write a Python program that takes a string input from the user and counts the number of characters in the string."
      ]
    },
    {
      "cell_type": "code",
      "execution_count": null,
      "metadata": {},
      "outputs": [],
      "source": [
        "#10\n",
        "string=input(\"Please enter a string: \")\n",
        "num_string=len(string)\n",
        "\n",
        "print(num_string)"
      ]
    }
  ],
  "metadata": {
    "colab": {
      "provenance": []
    },
    "kernelspec": {
      "display_name": "Python 3",
      "name": "python3"
    },
    "language_info": {
      "codemirror_mode": {
        "name": "ipython",
        "version": 3
      },
      "file_extension": ".py",
      "mimetype": "text/x-python",
      "name": "python",
      "nbconvert_exporter": "python",
      "pygments_lexer": "ipython3",
      "version": "3.11.5"
    }
  },
  "nbformat": 4,
  "nbformat_minor": 0
}
